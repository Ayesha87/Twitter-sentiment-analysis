{
  "nbformat": 4,
  "nbformat_minor": 0,
  "metadata": {
    "colab": {
      "name": "Movie_Review_Sentiment_Analysis.ipynb",
      "provenance": []
    },
    "kernelspec": {
      "name": "python3",
      "display_name": "Python 3"
    }
  },
  "cells": [
    {
      "cell_type": "code",
      "metadata": {
        "id": "PisyBuwsBXGD",
        "colab_type": "code",
        "colab": {}
      },
      "source": [
        "import nltk\n",
        "import pandas as pd  \n",
        "import numpy as np\n",
        "import matplotlib.pyplot as plt"
      ],
      "execution_count": null,
      "outputs": []
    },
    {
      "cell_type": "code",
      "metadata": {
        "id": "lYhrD6HlBq1s",
        "colab_type": "code",
        "colab": {
          "base_uri": "https://localhost:8080/",
          "height": 68
        },
        "outputId": "1c95da1c-c722-4a20-93d5-e3abce9cfc77"
      },
      "source": [
        "nltk.download(\"movie_reviews\")"
      ],
      "execution_count": null,
      "outputs": [
        {
          "output_type": "stream",
          "text": [
            "[nltk_data] Downloading package movie_reviews to /root/nltk_data...\n",
            "[nltk_data]   Unzipping corpora/movie_reviews.zip.\n"
          ],
          "name": "stdout"
        },
        {
          "output_type": "execute_result",
          "data": {
            "text/plain": [
              "True"
            ]
          },
          "metadata": {
            "tags": []
          },
          "execution_count": 2
        }
      ]
    },
    {
      "cell_type": "code",
      "metadata": {
        "id": "ytgS_jWoBn9a",
        "colab_type": "code",
        "colab": {
          "base_uri": "https://localhost:8080/",
          "height": 68
        },
        "outputId": "8c09e747-34ae-49d5-cd37-312b9c6e6cda"
      },
      "source": [
        "nltk.download('stopwords')"
      ],
      "execution_count": null,
      "outputs": [
        {
          "output_type": "stream",
          "text": [
            "[nltk_data] Downloading package stopwords to /root/nltk_data...\n",
            "[nltk_data]   Unzipping corpora/stopwords.zip.\n"
          ],
          "name": "stdout"
        },
        {
          "output_type": "execute_result",
          "data": {
            "text/plain": [
              "True"
            ]
          },
          "metadata": {
            "tags": []
          },
          "execution_count": 3
        }
      ]
    },
    {
      "cell_type": "code",
      "metadata": {
        "id": "JTwEWGMgBulx",
        "colab_type": "code",
        "colab": {}
      },
      "source": [
        "from nltk import ngrams\n",
        "from nltk.corpus import movie_reviews\n",
        "from nltk.corpus import stopwords \n",
        "import string\n",
        "import re\n"
      ],
      "execution_count": null,
      "outputs": []
    },
    {
      "cell_type": "code",
      "metadata": {
        "id": "GywcyhW9vuRd",
        "colab_type": "code",
        "colab": {
          "base_uri": "https://localhost:8080/",
          "height": 85
        },
        "outputId": "9cefe9e5-4303-4e16-db7c-e7cadaf51fe7"
      },
      "source": [
        "print (len(movie_reviews.fileids()))\n",
        "print (movie_reviews.categories()) \n",
        "print (len(movie_reviews.fileids('pos')))\n",
        "print (len(movie_reviews.fileids('neg')))"
      ],
      "execution_count": null,
      "outputs": [
        {
          "output_type": "stream",
          "text": [
            "2000\n",
            "['neg', 'pos']\n",
            "1000\n",
            "1000\n"
          ],
          "name": "stdout"
        }
      ]
    },
    {
      "cell_type": "code",
      "metadata": {
        "id": "10lZ9G3Uw9yD",
        "colab_type": "code",
        "colab": {
          "base_uri": "https://localhost:8080/",
          "height": 34
        },
        "outputId": "84e304e0-1982-4091-986c-3c2ee5185b99"
      },
      "source": [
        "all_words = [word.lower() for word in movie_reviews.words()]\n",
        "# print first 10 words\n",
        "print (all_words[:10])"
      ],
      "execution_count": null,
      "outputs": [
        {
          "output_type": "stream",
          "text": [
            "['plot', ':', 'two', 'teen', 'couples', 'go', 'to', 'a', 'church', 'party']\n"
          ],
          "name": "stdout"
        }
      ]
    },
    {
      "cell_type": "code",
      "metadata": {
        "id": "XPWlgqvrCJYv",
        "colab_type": "code",
        "colab": {}
      },
      "source": [
        "stopwords_english = stopwords.words('english')\n",
        "\n",
        "# clean words, i.e. remove stopwords and punctuation\n",
        "def clean_words(words, stopwords_english):\n",
        "    words_clean = []\n",
        "    for word in words:\n",
        "        word = word.lower()\n",
        "        if word not in stopwords_english and word not in string.punctuation:\n",
        "            words_clean.append(word)\n",
        "      \n",
        "    return words_clean "
      ],
      "execution_count": null,
      "outputs": []
    },
    {
      "cell_type": "code",
      "metadata": {
        "id": "nqzsHo6ACOI_",
        "colab_type": "code",
        "colab": {}
      },
      "source": [
        "from nltk.tokenize import WordPunctTokenizer\n",
        "tok = WordPunctTokenizer()\n",
        "from bs4 import BeautifulSoup"
      ],
      "execution_count": null,
      "outputs": []
    },
    {
      "cell_type": "code",
      "metadata": {
        "id": "pNljWeNLCTEy",
        "colab_type": "code",
        "colab": {}
      },
      "source": [
        "pat1 = r'@[A-Za-z0-9]+'\n",
        "pat2 = r'https?://[A-Za-z0-9./]+'\n",
        "combined_pat = r'|'.join((pat1, pat2))\n",
        "\n",
        "def tweet_cleaner(text):\n",
        "    soup = BeautifulSoup(text, 'lxml')\n",
        "    souped = soup.get_text()\n",
        "    stripped = re.sub(combined_pat, '', souped)\n",
        "    try:\n",
        "        clean = stripped.decode(\"utf-8-sig\").replace(u\"\\ufffd\", \"?\")\n",
        "    except:\n",
        "        clean = stripped\n",
        "    letters_only = re.sub(\"[^a-zA-Z]\", \" \", clean)\n",
        "    lower_case = letters_only.lower()\n",
        "    # During the letters_only process two lines above, it has created unnecessay white spaces,\n",
        "    # I will tokenize and join together to remove unneccessary white spaces\n",
        "    words = tok.tokenize(lower_case)\n",
        "    return (\" \".join(words)).strip()\n",
        " "
      ],
      "execution_count": null,
      "outputs": []
    },
    {
      "cell_type": "code",
      "metadata": {
        "id": "P1ds0DMvCV2G",
        "colab_type": "code",
        "colab": {}
      },
      "source": [
        "# feature extractor function for unigram\n",
        "def bag_of_words(words):    \n",
        "    words_dictionary = dict([word, True] for word in words)    \n",
        "    return words_dictionary"
      ],
      "execution_count": null,
      "outputs": []
    },
    {
      "cell_type": "code",
      "metadata": {
        "id": "rifUFQbcDSIc",
        "colab_type": "code",
        "colab": {}
      },
      "source": [
        "def bag_of_ngrams(words, n=2):\n",
        "    words_ng = []\n",
        "    for item in iter(ngrams(words, n)):\n",
        "        words_ng.append(item)\n",
        "    words_dictionary = dict([word, True] for word in words_ng)    \n",
        "    return words_dictionary"
      ],
      "execution_count": null,
      "outputs": []
    },
    {
      "cell_type": "code",
      "metadata": {
        "id": "xa5qlPEvDVY-",
        "colab_type": "code",
        "colab": {
          "base_uri": "https://localhost:8080/",
          "height": 68
        },
        "outputId": "6115cd27-ab21-4ee9-b372-1ce50808635f"
      },
      "source": [
        "from nltk.tokenize import word_tokenize\n",
        "nltk.download('punkt')\n"
      ],
      "execution_count": null,
      "outputs": [
        {
          "output_type": "stream",
          "text": [
            "[nltk_data] Downloading package punkt to /root/nltk_data...\n",
            "[nltk_data]   Unzipping tokenizers/punkt.zip.\n"
          ],
          "name": "stdout"
        },
        {
          "output_type": "execute_result",
          "data": {
            "text/plain": [
              "True"
            ]
          },
          "metadata": {
            "tags": []
          },
          "execution_count": 12
        }
      ]
    },
    {
      "cell_type": "code",
      "metadata": {
        "id": "tmDL3DF5DgsB",
        "colab_type": "code",
        "colab": {
          "base_uri": "https://localhost:8080/",
          "height": 34
        },
        "outputId": "374c793a-375b-4df2-ea9a-d55c97c4bb27"
      },
      "source": [
        "#Examples\n",
        "text = \"It was a very good movie.\"\n",
        "words = word_tokenize(text.lower())\n",
        " \n",
        "print (words)\n"
      ],
      "execution_count": null,
      "outputs": [
        {
          "output_type": "stream",
          "text": [
            "['it', 'was', 'a', 'very', 'good', 'movie', '.']\n"
          ],
          "name": "stdout"
        }
      ]
    },
    {
      "cell_type": "code",
      "metadata": {
        "id": "YSVBaYDFDoqF",
        "colab_type": "code",
        "colab": {
          "base_uri": "https://localhost:8080/",
          "height": 34
        },
        "outputId": "bc603d39-dd19-4173-ea21-8b7b26d3cb25"
      },
      "source": [
        "# working with cleaning words\n",
        "# i.e. removing stopwords and punctuation\n",
        "words_clean = clean_words(words, stopwords_english)\n",
        "print (words_clean)"
      ],
      "execution_count": null,
      "outputs": [
        {
          "output_type": "stream",
          "text": [
            "['good', 'movie']\n"
          ],
          "name": "stdout"
        }
      ]
    },
    {
      "cell_type": "code",
      "metadata": {
        "id": "PyoYeNmUDsor",
        "colab_type": "code",
        "colab": {
          "base_uri": "https://localhost:8080/",
          "height": 34
        },
        "outputId": "0b40e0bd-4025-48b1-9b19-b4d54bc10639"
      },
      "source": [
        "important_words = ['above', 'below', 'off', 'over', 'under', 'more', 'most', 'such', 'no', 'nor', 'not', 'only', 'so', 'than', 'too', 'very', 'just', 'but']\n",
        " \n",
        "stopwords_english_for_bigrams = set(stopwords_english) - set(important_words)\n",
        " \n",
        "words_clean_for_bigrams = clean_words(words, stopwords_english_for_bigrams)\n",
        "print (words_clean_for_bigrams)"
      ],
      "execution_count": null,
      "outputs": [
        {
          "output_type": "stream",
          "text": [
            "['very', 'good', 'movie']\n"
          ],
          "name": "stdout"
        }
      ]
    },
    {
      "cell_type": "code",
      "metadata": {
        "id": "0kyb1hCuEIsM",
        "colab_type": "code",
        "colab": {
          "base_uri": "https://localhost:8080/",
          "height": 34
        },
        "outputId": "38b31ac0-0056-4871-e58e-1d1a328630a4"
      },
      "source": [
        "# We will use general stopwords for unigrams \n",
        "# And special stopwords list for bigrams\n",
        "unigram_features = bag_of_words(words_clean)\n",
        "print (unigram_features)"
      ],
      "execution_count": null,
      "outputs": [
        {
          "output_type": "stream",
          "text": [
            "{'good': True, 'movie': True}\n"
          ],
          "name": "stdout"
        }
      ]
    },
    {
      "cell_type": "code",
      "metadata": {
        "id": "KdzNdhkrENVP",
        "colab_type": "code",
        "colab": {
          "base_uri": "https://localhost:8080/",
          "height": 34
        },
        "outputId": "3da214b8-a8cf-4173-d59d-1721b0fb8458"
      },
      "source": [
        "bigram_features = bag_of_ngrams(words_clean_for_bigrams)\n",
        "print (bigram_features)"
      ],
      "execution_count": null,
      "outputs": [
        {
          "output_type": "stream",
          "text": [
            "{('very', 'good'): True, ('good', 'movie'): True}\n"
          ],
          "name": "stdout"
        }
      ]
    },
    {
      "cell_type": "code",
      "metadata": {
        "id": "HOW3xA60ESEd",
        "colab_type": "code",
        "colab": {
          "base_uri": "https://localhost:8080/",
          "height": 34
        },
        "outputId": "b7a1c699-5c61-437a-d38d-576b9153ba87"
      },
      "source": [
        "all_features = unigram_features.copy()\n",
        "all_features.update(bigram_features)\n",
        "print (all_features)\n"
      ],
      "execution_count": null,
      "outputs": [
        {
          "output_type": "stream",
          "text": [
            "{'good': True, 'movie': True, ('very', 'good'): True, ('good', 'movie'): True}\n"
          ],
          "name": "stdout"
        }
      ]
    },
    {
      "cell_type": "code",
      "metadata": {
        "id": "r0HhHlUtEVhY",
        "colab_type": "code",
        "colab": {
          "base_uri": "https://localhost:8080/",
          "height": 34
        },
        "outputId": "92275d4f-10ce-4a9a-a792-f967372948a0"
      },
      "source": [
        "def bag_of_all_words(words, n=2):\n",
        "    words_clean = clean_words(words, stopwords_english)\n",
        "    words_clean_for_bigrams = clean_words(words, stopwords_english_for_bigrams)\n",
        " \n",
        "    unigram_features = bag_of_words(words_clean)\n",
        "    bigram_features = bag_of_ngrams(words_clean_for_bigrams)\n",
        " \n",
        "    all_features = unigram_features.copy()\n",
        "    all_features.update(bigram_features)\n",
        " \n",
        "    return all_features\n",
        " \n",
        "print (bag_of_all_words(words))"
      ],
      "execution_count": null,
      "outputs": [
        {
          "output_type": "stream",
          "text": [
            "{'good': True, 'movie': True, ('very', 'good'): True, ('good', 'movie'): True}\n"
          ],
          "name": "stdout"
        }
      ]
    },
    {
      "cell_type": "code",
      "metadata": {
        "id": "MJDdQ6oHEZgL",
        "colab_type": "code",
        "colab": {}
      },
      "source": [
        "from nltk.corpus import movie_reviews \n"
      ],
      "execution_count": null,
      "outputs": []
    },
    {
      "cell_type": "code",
      "metadata": {
        "id": "inS4LRYaEjfN",
        "colab_type": "code",
        "colab": {}
      },
      "source": [
        "pos_reviews = []\n",
        "for fileid in movie_reviews.fileids('pos'):\n",
        "    words = movie_reviews.words(fileid)\n",
        "    pos_reviews.append(words)\n",
        " \n",
        "neg_reviews = []\n",
        "for fileid in movie_reviews.fileids('neg'):\n",
        "    words = movie_reviews.words(fileid)\n",
        "    neg_reviews.append(words)\n"
      ],
      "execution_count": null,
      "outputs": []
    },
    {
      "cell_type": "code",
      "metadata": {
        "id": "jxoWx1IuEmJJ",
        "colab_type": "code",
        "colab": {}
      },
      "source": [
        "# positive reviews feature set\n",
        "pos_reviews_set = []\n",
        "for words in pos_reviews:\n",
        "    pos_reviews_set.append((bag_of_all_words(words), 'pos'))\n",
        " \n",
        "# negative reviews feature set\n",
        "neg_reviews_set = []\n",
        "for words in neg_reviews:\n",
        "    neg_reviews_set.append((bag_of_all_words(words), 'neg'))"
      ],
      "execution_count": null,
      "outputs": []
    },
    {
      "cell_type": "code",
      "metadata": {
        "id": "JA19KMQbEpX6",
        "colab_type": "code",
        "colab": {
          "base_uri": "https://localhost:8080/",
          "height": 51
        },
        "outputId": "fc426678-a20f-4340-a567-0fdbe1797dd0"
      },
      "source": [
        "print (len(pos_reviews_set), len(neg_reviews_set)) # Output: (1000, 1000)\n",
        " \n",
        "# radomize pos_reviews_set and neg_reviews_set\n",
        "# doing so will output different accuracy result everytime we run the program\n",
        "from random import shuffle \n",
        "shuffle(pos_reviews_set)\n",
        "shuffle(neg_reviews_set)\n",
        " \n",
        "test_set = pos_reviews_set[:200] + neg_reviews_set[:200]\n",
        "train_set = pos_reviews_set[200:] + neg_reviews_set[200:]\n",
        " \n",
        "print(len(test_set),  len(train_set)) # Output: (400, 1600)"
      ],
      "execution_count": null,
      "outputs": [
        {
          "output_type": "stream",
          "text": [
            "1000 1000\n",
            "400 1600\n"
          ],
          "name": "stdout"
        }
      ]
    },
    {
      "cell_type": "code",
      "metadata": {
        "id": "x0H5c0jgEumG",
        "colab_type": "code",
        "colab": {}
      },
      "source": [
        "from nltk import classify\n",
        "from nltk import NaiveBayesClassifier"
      ],
      "execution_count": null,
      "outputs": []
    },
    {
      "cell_type": "code",
      "metadata": {
        "id": "k29zS4PyE14x",
        "colab_type": "code",
        "colab": {
          "base_uri": "https://localhost:8080/",
          "height": 238
        },
        "outputId": "33424705-b302-485c-8261-8941bc7d2f23"
      },
      "source": [
        "classifier = NaiveBayesClassifier.train(train_set)\n",
        " \n",
        "accuracy = classify.accuracy(classifier, test_set)\n",
        "print(accuracy) # Output: 0.8025\n",
        " \n",
        "print (classifier.show_most_informative_features(10))    \n"
      ],
      "execution_count": null,
      "outputs": [
        {
          "output_type": "stream",
          "text": [
            "0.7625\n",
            "Most Informative Features\n",
            "               insulting = True              neg : pos    =     15.7 : 1.0\n",
            "                   sucks = True              neg : pos    =     15.0 : 1.0\n",
            "        ('one', 'worst') = True              neg : pos    =     12.6 : 1.0\n",
            "             outstanding = True              pos : neg    =     11.9 : 1.0\n",
            "               stupidity = True              neg : pos    =     11.4 : 1.0\n",
            "       ('bad', 'acting') = True              neg : pos    =     11.0 : 1.0\n",
            "    ('quite', 'frankly') = True              neg : pos    =     11.0 : 1.0\n",
            "               affecting = True              pos : neg    =     11.0 : 1.0\n",
            "                 idiotic = True              neg : pos    =     10.6 : 1.0\n",
            "               atrocious = True              neg : pos    =     10.3 : 1.0\n",
            "None\n"
          ],
          "name": "stdout"
        }
      ]
    },
    {
      "cell_type": "code",
      "metadata": {
        "id": "xO8KNFusE4Pf",
        "colab_type": "code",
        "colab": {
          "base_uri": "https://localhost:8080/",
          "height": 34
        },
        "outputId": "21e40c6a-e000-4e41-a089-7a41b0c005b1"
      },
      "source": [
        "custom_review = \"I hated the film. It was a disaster. Poor direction, bad acting.\"\n",
        "custom_review_tokens = word_tokenize(custom_review)\n",
        "custom_review_set = bag_of_all_words(custom_review_tokens)\n",
        "print (classifier.classify(custom_review_set))"
      ],
      "execution_count": null,
      "outputs": [
        {
          "output_type": "stream",
          "text": [
            "neg\n"
          ],
          "name": "stdout"
        }
      ]
    },
    {
      "cell_type": "code",
      "metadata": {
        "id": "tZU6ZjkTFBNq",
        "colab_type": "code",
        "colab": {
          "base_uri": "https://localhost:8080/",
          "height": 85
        },
        "outputId": "fa7854c2-f3bf-412f-d68a-4425f5a697ce"
      },
      "source": [
        "# probability result\n",
        "prob_result = classifier.prob_classify(custom_review_set)\n",
        "print (prob_result) # Output: <ProbDist with 2 samples>\n",
        "print (prob_result.max()) # Output: neg\n",
        "print (prob_result.prob(\"neg\"))\n",
        "print (prob_result.prob(\"pos\"))"
      ],
      "execution_count": null,
      "outputs": [
        {
          "output_type": "stream",
          "text": [
            "<ProbDist with 2 samples>\n",
            "neg\n",
            "0.8753102763993712\n",
            "0.12468972360063019\n"
          ],
          "name": "stdout"
        }
      ]
    },
    {
      "cell_type": "code",
      "metadata": {
        "id": "25ILghJuFEjv",
        "colab_type": "code",
        "colab": {
          "base_uri": "https://localhost:8080/",
          "height": 34
        },
        "outputId": "e3fd9cff-ad87-4c84-95cf-c194fad4ee2c"
      },
      "source": [
        "custom_review = \"@rachitattweet @summitkhanna Mansukh vasava winning this seat for last 4 election. Its more about vasava tribal vot… https://t.co/4VH3MtJp3E\"\n",
        "\n",
        "custom_review_tokens = word_tokenize(custom_review)\n",
        "custom_review_set = bag_of_all_words(custom_review_tokens)\n",
        " \n",
        "print (classifier.classify(custom_review_set))"
      ],
      "execution_count": null,
      "outputs": [
        {
          "output_type": "stream",
          "text": [
            "neg\n"
          ],
          "name": "stdout"
        }
      ]
    },
    {
      "cell_type": "code",
      "metadata": {
        "id": "5ilP80wCFQXZ",
        "colab_type": "code",
        "colab": {
          "base_uri": "https://localhost:8080/",
          "height": 85
        },
        "outputId": "9f67c867-f7c4-4077-d467-513fa49a9086"
      },
      "source": [
        "# probability result\n",
        "prob_result = classifier.prob_classify(custom_review_set)\n",
        "print (prob_result) # Output: <ProbDist with 2 samples>\n",
        "print (prob_result.max()) # Output: pos\n",
        "print (prob_result.prob(\"neg\")) \n",
        "print (prob_result.prob(\"pos\")) "
      ],
      "execution_count": null,
      "outputs": [
        {
          "output_type": "stream",
          "text": [
            "<ProbDist with 2 samples>\n",
            "neg\n",
            "0.5166741715678893\n",
            "0.4833258284321096\n"
          ],
          "name": "stdout"
        }
      ]
    },
    {
      "cell_type": "code",
      "metadata": {
        "id": "mmHH_NtdFpey",
        "colab_type": "code",
        "colab": {}
      },
      "source": [
        "import sys, tweepy"
      ],
      "execution_count": null,
      "outputs": []
    },
    {
      "cell_type": "code",
      "metadata": {
        "id": "6TUkFfsAFwEP",
        "colab_type": "code",
        "colab": {}
      },
      "source": [
        "ConsumerKey =\"Your_consumer_key\"\n",
        "ConsumerSecret =\"Your_consumer_secret_key\"\n",
        "accessToken =\"Your_access_token\"\n",
        "accessTokenSecret =\"Your_access_token_secret_key\"\n",
        "auth = tweepy.OAuthHandler(ConsumerKey, ConsumerSecret)\n",
        "auth.set_access_token(accessToken, accessTokenSecret)\n",
        "api = tweepy.API(auth)"
      ],
      "execution_count": null,
      "outputs": []
    },
    {
      "cell_type": "code",
      "metadata": {
        "id": "Xo2flZCCF44y",
        "colab_type": "code",
        "colab": {
          "base_uri": "https://localhost:8080/",
          "height": 34
        },
        "outputId": "095a4853-77da-45e7-8051-e850c44093af"
      },
      "source": [
        "text = input(\"Enter movie name: \")\n",
        "public_tweets = api.search(text)\n"
      ],
      "execution_count": null,
      "outputs": [
        {
          "output_type": "stream",
          "text": [
            "Enter movie name: total dhamaal\n"
          ],
          "name": "stdout"
        }
      ]
    },
    {
      "cell_type": "code",
      "metadata": {
        "id": "3APHHmW-GEE5",
        "colab_type": "code",
        "colab": {
          "base_uri": "https://localhost:8080/",
          "height": 221
        },
        "outputId": "b5e38d49-63a2-4ec7-fa19-ea7a5b1421be"
      },
      "source": [
        "test_result = []\n",
        "for tweet in public_tweets:\n",
        "    test_result.append(tweet_cleaner(tweet.text))\n",
        "  \n",
        "    \n",
        "test_result"
      ],
      "execution_count": null,
      "outputs": [
        {
          "output_type": "execute_result",
          "data": {
            "text/plain": [
              "['rt if vimal fans thinks that ajay devgan has stardom then de de pyaar de shld cross totaldhamaal as total dhamaal was tim',\n",
              " 'rt film critic taran adarsh has given a fantastic rating to avengersengame in his review the other movie he had thoroughly',\n",
              " 'akholic nhi canadian tha tabhi to superhit nhi hui franchise ki last movie zyada chslti ha',\n",
              " 'film critic taran adarsh has given a fantastic rating to avengersengame in his review the other movie he had thor',\n",
              " 'you ve no right to be in office sc to assam chief secretary india news india',\n",
              " 'rt if vimal fans thinks that ajay devgan has stardom then de de pyaar de shld cross totaldhamaal as total dhamaal was tim',\n",
              " 'box office collection of total dhamaal total dhamaal worldwide collection box office',\n",
              " 'jay fannepal off india uncle zinda ho total dhamaal ko cross kar chuka hain',\n",
              " 'rt set to score a rom com success with after adventure comedy totaldhamaal ajaydevgn dedepyaarde ta',\n",
              " 'if vimal fans thinks that ajay devgan has stardom then de de pyaar de shld cross totaldhamaal as total dhamaal',\n",
              " 'kya khake kya aate ho sham ko total dhamaal',\n",
              " 'style total dhamaal me anil kapoor ka mention pehle hai box office india me']"
            ]
          },
          "metadata": {
            "tags": []
          },
          "execution_count": 42
        }
      ]
    },
    {
      "cell_type": "code",
      "metadata": {
        "id": "R5Apja_uHRbu",
        "colab_type": "code",
        "colab": {}
      },
      "source": [
        "negative_review=0\n",
        "positive_review=0\n",
        "for t in test_result:\n",
        "  custom_review_tokens = word_tokenize(t)\n",
        "  custom_review_set = bag_of_all_words(custom_review_tokens)\n",
        "  prob_result = classifier.prob_classify(custom_review_set)\n",
        "  negative_review=(prob_result.prob(\"neg\")+prob_result.prob(\"neg\"))\n",
        "  positive_review=(prob_result.prob(\"pos\")+prob_result.prob(\"pos\"))\n",
        "  "
      ],
      "execution_count": null,
      "outputs": []
    },
    {
      "cell_type": "code",
      "metadata": {
        "id": "HGgJX6WUuKvK",
        "colab_type": "code",
        "colab": {
          "base_uri": "https://localhost:8080/",
          "height": 68
        },
        "outputId": "978ff29a-9d96-44ec-d2b1-2b991a2c4d53"
      },
      "source": [
        "#negative_review=negative_review/x\n",
        "#positive_review=positive_review/x\n",
        "print (negative_review)\n",
        "print (positive_review)\n",
        "print (prob_result.max())\n"
      ],
      "execution_count": null,
      "outputs": [
        {
          "output_type": "stream",
          "text": [
            "0.1344829896840777\n",
            "1.8655170103159258\n",
            "pos\n"
          ],
          "name": "stdout"
        }
      ]
    },
    {
      "cell_type": "code",
      "metadata": {
        "id": "Zr2JleZevCB4",
        "colab_type": "code",
        "colab": {}
      },
      "source": [
        "import matplotlib.pyplot as plt"
      ],
      "execution_count": null,
      "outputs": []
    },
    {
      "cell_type": "code",
      "metadata": {
        "id": "ws4n-GWa6Zeu",
        "colab_type": "code",
        "colab": {}
      },
      "source": [
        "negative=(negative_review/2)*100\n",
        "positive=(positive_review/2)*100\n"
      ],
      "execution_count": null,
      "outputs": []
    },
    {
      "cell_type": "code",
      "metadata": {
        "id": "4LY1csCL6wXC",
        "colab_type": "code",
        "colab": {}
      },
      "source": [
        "negative = format(negative, \".2f\")\n",
        "positive = format(positive, '.2f')"
      ],
      "execution_count": null,
      "outputs": []
    },
    {
      "cell_type": "code",
      "metadata": {
        "id": "eoSXEywN8RyT",
        "colab_type": "code",
        "colab": {
          "base_uri": "https://localhost:8080/",
          "height": 314
        },
        "outputId": "5cef4f0a-aeb8-42b4-a872-210cea6cbd77"
      },
      "source": [
        "labels=['Positive['+str(positive)+'%]','Negative['+str(negative)+'%]']\n",
        "sizes = [positive,negative]\n",
        "colors = ['yellow','red']\n",
        "patches, texts = plt.pie(sizes,colors=colors, startangle=90)\n",
        "plt.legend(patches,labels,loc='best')\n",
        "plt.title('How many people are reacting on '+text+' Tweets.')\n",
        "plt.axis('equal')\n",
        "plt.tight_layout()\n",
        "plt.show()\n",
        "\n",
        "print (prob_result.max())\n"
      ],
      "execution_count": null,
      "outputs": [
        {
          "output_type": "display_data",
          "data": {
            "image/png": "[encoded data removed]",
            "text/plain": [
              "<Figure size 432x288 with 1 Axes>"
            ]
          },
          "metadata": {
            "tags": []
          }
        },
        {
          "output_type": "stream",
          "text": [
            "pos\n"
          ],
          "name": "stdout"
        }
      ]
    },
    {
      "cell_type": "code",
      "metadata": {
        "id": "6hTUoAij9oGq",
        "colab_type": "code",
        "colab": {}
      },
      "source": [
        ""
      ],
      "execution_count": null,
      "outputs": []
    }
  ]
}